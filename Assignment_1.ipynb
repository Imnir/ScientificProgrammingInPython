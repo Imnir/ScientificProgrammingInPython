{
  "nbformat": 4,
  "nbformat_minor": 0,
  "metadata": {
    "colab": {
      "name": "Untitled0.ipynb",
      "provenance": [],
      "collapsed_sections": [],
      "authorship_tag": "ABX9TyMJUT3ZoElUK+ki6Vz6vEEx",
      "include_colab_link": true
    },
    "kernelspec": {
      "name": "python3",
      "display_name": "Python 3"
    },
    "language_info": {
      "name": "python"
    }
  },
  "cells": [
    {
      "cell_type": "markdown",
      "metadata": {
        "id": "view-in-github",
        "colab_type": "text"
      },
      "source": [
        "<a href=\"https://colab.research.google.com/github/Imnir/ScientificProgrammingInPython/blob/main/Assignment_1.ipynb\" target=\"_parent\"><img src=\"https://colab.research.google.com/assets/colab-badge.svg\" alt=\"Open In Colab\"/></a>"
      ]
    },
    {
      "cell_type": "markdown",
      "source": [
        "## Assignment No. 1  \"herd immunity\"\n",
        "\n",
        "Author: **Sara  Giernoth** (sgiern2s; **9034035**)\n",
        "\n",
        "Date: March 29, 2022\n",
        "\n",
        " Compute the herd immunity threshold value, as a percentage.\n",
        "\n",
        "\n",
        "---\n",
        "\n"
      ],
      "metadata": {
        "id": "EwrxDfA0nA4d"
      }
    },
    {
      "cell_type": "code",
      "source": [
        "#Create a Dictonary to assign a location to the given basic reproduction number.\n",
        "r0Dictionary = {'Western Europe': 2.2, 'Delta strain': 5.08}\n",
        "\n",
        "#Iterate over the key values of the dictionary, in this case the locations, and calculate the rounded threshold values in each case.\n",
        "for key in r0Dictionary:\n",
        "  pC = 1 - (1/r0Dictionary[key])\n",
        "  pCRoundedInPercent = round(pC*100, 2)\n",
        "  print(f'The herd immunity threshold value for {key} is {pCRoundedInPercent}%.')\n"
      ],
      "metadata": {
        "colab": {
          "base_uri": "https://localhost:8080/"
        },
        "id": "a9zr6GzYoSi3",
        "outputId": "81b3c5a8-b3da-4129-b7e7-2b803c92002c"
      },
      "execution_count": 5,
      "outputs": [
        {
          "output_type": "stream",
          "name": "stdout",
          "text": [
            "The herd immunity threshold value for Western Europe is 54.55%.\n",
            "The herd immunity threshold value for Delta strain is 80.31%.\n"
          ]
        }
      ]
    }
  ]
}